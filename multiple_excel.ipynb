{
 "cells": [
  {
   "cell_type": "markdown",
   "metadata": {},
   "source": [
    "Import libraries..."
   ]
  },
  {
   "cell_type": "code",
   "execution_count": null,
   "metadata": {},
   "outputs": [],
   "source": [
    "import numpy as np\n",
    "import pandas as pd\n",
    "import matplotlib.pyplot as plt\n",
    "import os"
   ]
  },
  {
   "cell_type": "markdown",
   "metadata": {},
   "source": [
    "List file names in the data folder"
   ]
  },
  {
   "cell_type": "code",
   "execution_count": null,
   "metadata": {},
   "outputs": [],
   "source": [
    "PATH = os.getcwd() + \"/data\"\n",
    "file_names = os.listdir(PATH)\n",
    "file_names"
   ]
  },
  {
   "cell_type": "markdown",
   "metadata": {},
   "source": [
    "Have a look at the dataframe read from the excel sheet"
   ]
  },
  {
   "cell_type": "code",
   "execution_count": null,
   "metadata": {},
   "outputs": [],
   "source": [
    "xls = pd.ExcelFile(PATH + '/' + file_names[0])\n",
    "df = pd.read_excel(xls, sheet_name=\"2018年度\").fillna(0)\n",
    "df"
   ]
  },
  {
   "cell_type": "markdown",
   "metadata": {},
   "source": [
    "The years list contains the name of excel sheets. Manipulate the data inside each sheet and generate output dataframe."
   ]
  },
  {
   "cell_type": "code",
   "execution_count": null,
   "metadata": {},
   "outputs": [],
   "source": [
    "years = [\"2018年度\", \"2019年度\", \"2020年度\", \"2021年度\", \"2022上半年\"]\n",
    "\n",
    "with pd.ExcelWriter('output.xlsx') as writer:\n",
    "    for year in years:\n",
    "        print(\"================== \", year, \" ==================\")\n",
    "        output_idx = [\"各级领导班子成员\", \"各级中层干部\", \"专业技术人员\", \"其他人员\"]\n",
    "        output_col = [\"实际人数\", \"脱产培训总学时\", \"参加组织调训的人数\", \"参加培训的人数\", \"参加网络培训的学时数\"]\n",
    "        output_df = pd.DataFrame(0, index=output_idx, columns=output_col)\n",
    "        # output_df = pd.DataFrame(0, index=np.arange(4), columns=np.arange(14))\n",
    "        for file_name in file_names:\n",
    "            xls = pd.ExcelFile(PATH + '/' + file_name)\n",
    "            df = pd.read_excel(xls, sheet_name=year).fillna(0)\n",
    "            output_df.loc[:, \"实际人数\"] += df.iloc[4:8, 1].values.astype(int)\n",
    "            output_df.loc[:, \"脱产培训总学时\"] += df.iloc[4:8, 3].values.astype(float)\n",
    "            output_df.loc[:, \"参加组织调训的人数\"] += df.iloc[4:8, 6].values.astype(int)\n",
    "            output_df.loc[:, \"参加培训的人数\"] += df.iloc[4:8, 9].values.astype(int)\n",
    "            output_df.loc[:, \"参加网络培训的学时数\"] += df.iloc[4:8, 12].values.astype(float)\n",
    "        output_df.to_excel(writer, sheet_name=year)\n",
    "        print(output_df)"
   ]
  }
 ],
 "metadata": {
  "kernelspec": {
   "display_name": "Python 3.10.4 ('robo_base')",
   "language": "python",
   "name": "python3"
  },
  "language_info": {
   "codemirror_mode": {
    "name": "ipython",
    "version": 3
   },
   "file_extension": ".py",
   "mimetype": "text/x-python",
   "name": "python",
   "nbconvert_exporter": "python",
   "pygments_lexer": "ipython3",
   "version": "3.10.4"
  },
  "orig_nbformat": 4,
  "vscode": {
   "interpreter": {
    "hash": "96e0b108776c78b5cda65fd4c3038f220ed3a169480f8d80518a0bf08276259c"
   }
  }
 },
 "nbformat": 4,
 "nbformat_minor": 2
}
